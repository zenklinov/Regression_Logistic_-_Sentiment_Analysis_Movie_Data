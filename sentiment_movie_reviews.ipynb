{
 "cells": [
  {
   "cell_type": "markdown",
   "metadata": {},
   "source": [
    "<img src=\"https://rhyme.com/assets/img/logo-dark.png\" align=\"center\"> <h2 align=\"center\">Logistic Regression: A Sentiment Analysis Case Study</h2>"
   ]
  },
  {
   "cell_type": "markdown",
   "metadata": {},
   "source": [
    "### Introduction\n",
    "___"
   ]
  },
  {
   "cell_type": "markdown",
   "metadata": {},
   "source": [
    "- IMDB movie reviews dataset\n",
    "- http://ai.stanford.edu/~amaas/data/sentiment\n",
    "- Contains 25000 positive and 25000 negative reviews\n",
    "<img src=\"https://i.imgur.com/lQNnqgi.png\" align=\"center\">\n",
    "- Contains at most reviews per movie\n",
    "- At least 7 stars out of 10 $\\rightarrow$ positive (label = 1)\n",
    "- At most 4 stars out of 10 $\\rightarrow$ negative (label = 0)\n",
    "- 50/50 train/test split\n",
    "- Evaluation accuracy"
   ]
  },
  {
   "cell_type": "markdown",
   "metadata": {},
   "source": [
    "<b>Features: bag of 1-grams with TF-IDF values</b>:\n",
    "- Extremely sparse feature matrix - close to 97% are zeros"
   ]
  },
  {
   "cell_type": "markdown",
   "metadata": {},
   "source": [
    " <b>Model: Logistic regression</b>\n",
    "- $p(y = 1|x) = \\sigma(w^{T}x)$\n",
    "- Linear classification model\n",
    "- Can handle sparse data\n",
    "- Fast to train\n",
    "- Weights can be interpreted\n",
    "<img src=\"https://i.imgur.com/VieM41f.png\" align=\"center\" width=500 height=500>"
   ]
  },
  {
   "cell_type": "markdown",
   "metadata": {},
   "source": [
    "### Step 1: Loading the dataset\n",
    "---"
   ]
  },
  {
   "cell_type": "markdown",
   "metadata": {},
   "source": [
    "In this section, the code loads a dataset using the pd.read_csv function from the Pandas library. The dataset is stored in a Pandas DataFrame object named df. Additionally, the first five rows of the DataFrame are displayed using the head() function."
   ]
  },
  {
   "cell_type": "code",
   "execution_count": 1,
   "metadata": {},
   "outputs": [
    {
     "name": "stdout",
     "output_type": "stream",
     "text": [
      "                                              review  sentiment\n",
      "0  In 1974, the teenager Martha Moxley (Maggie Gr...          1\n",
      "1  OK... so... I really like Kris Kristofferson a...          0\n",
      "2  ***SPOILER*** Do not read this, if you think a...          0\n",
      "3  hi for all the people who have seen this wonde...          1\n",
      "4  I recently bought the DVD, forgetting just how...          0\n"
     ]
    }
   ],
   "source": [
    "import pandas as pd\n",
    "\n",
    "# Load data\n",
    "df = pd.read_csv(r'F:\\Folder\\Coursera\\Perform Sentiment Analysis with scikit-learn\\movie_data.csv')\n",
    "\n",
    "# Show 5 rows\n",
    "print(df.head())"
   ]
  },
  {
   "cell_type": "markdown",
   "metadata": {},
   "source": [
    "### Step 2: Preprocessing Text\n",
    "---"
   ]
  },
  {
   "cell_type": "markdown",
   "metadata": {},
   "source": [
    "This section focuses on text preprocessing tasks. It includes several subtasks such as removing HTML tags, converting text to lowercase, removing non-alphanumeric characters, extracting emoticons, and tokenizing words. The text preprocessing functions defined are preprocessor(), tokenizer(), and tokenizer_porter(). The cleaned text is stored in a new column named 'clean_review' in the DataFrame."
   ]
  },
  {
   "cell_type": "code",
   "execution_count": 2,
   "metadata": {},
   "outputs": [],
   "source": [
    "import re\n",
    "from nltk.stem.porter import PorterStemmer\n",
    "from nltk.corpus import stopwords\n",
    "\n",
    "porter = PorterStemmer()\n",
    "\n",
    "def tokenizer(text):\n",
    "    return text.split()\n",
    "\n",
    "def tokenizer_porter(text):\n",
    "    return [porter.stem(word) for word in text.split()]\n",
    "\n",
    "def preprocessor(text):\n",
    "    text = re.sub(r'<[^>]*>', '', text)\n",
    "    emoticons = re.findall(r'(?::|;|=)(?:-)?(?:\\)|\\(|D|P)', text)\n",
    "    text = re.sub(r'[\\W]+', ' ', text.lower()) + ' '.join(emoticons).replace('-', '')\n",
    "    return text\n",
    "\n",
    "# Clean review text\n",
    "df['clean_review'] = df['review'].apply(preprocessor)\n"
   ]
  },
  {
   "cell_type": "markdown",
   "metadata": {},
   "source": [
    "### Step 3: Train-Test Split\n",
    "---"
   ]
  },
  {
   "cell_type": "markdown",
   "metadata": {},
   "source": [
    "The dataset is split into training and testing sets using the train_test_split function from scikit-learn. The feature data (X) consists of the 'clean_review' column, while the target data (y) consists of the 'sentiment' column. The split ratio is 80% for training and 20% for testing (test_size=0.2), with a random state set to ensure reproducibility. "
   ]
  },
  {
   "cell_type": "code",
   "execution_count": 3,
   "metadata": {},
   "outputs": [],
   "source": [
    "from sklearn.model_selection import train_test_split\n",
    "\n",
    "# Split data into training and testing sets\n",
    "X_train, X_test, y_train, y_test = train_test_split(df['clean_review'], df['sentiment'], test_size=0.2, random_state=42)\n"
   ]
  },
  {
   "cell_type": "code",
   "execution_count": 4,
   "metadata": {},
   "outputs": [
    {
     "name": "stdout",
     "output_type": "stream",
     "text": [
      "Training data length: 40000\n",
      "Testing data length: 10000\n",
      "\n",
      "Training data examples:\n",
      "Example 1 : when anti bush jokes get really easy to do a show like this had better make sure it has something extra when that something extra is kid versions of political figures making jokes about the future they don t have yet it s just plain nonsense dick cheney and george bush are done well but dick cheney mutters mostly there s also condoleeza rice who has a crush on bush for some reason and donald rumsfeld who isn t really that similar to donald rumsfeld at all the democratic characters rarely give their names so it s a mystery as to who could be who aside from barack obama and hilary clinton the episodes have coherent stories but that s not nearly enough to keep this from sinking \n",
      "Example 2 : minor spoilerunderrated little stephen king shocker it s not perfect by any stretch of the imagination even if the limp performances of dale midkiff and denise crosby were better there d still be the mismanaged mystical story elements to contend with the old micmac burial ground rachel s terminally ill sister and the jacob marley an victor pascow never really come together into anything coherent and the film in places feels confused and overstuffed but few horror movies really are perfect and what this one may lack in other areas it makes up for in its willingness to shock pet sematary may actually be one of the cruelest horror films in recent memory with its murderous zombie baby and its insanely insensitive portrayal of zelda it s politically incorrect it s tasteless it s gratuitous and yet it makes us squirm with revulsion in a way safer horror movies never can add to that one of fred gwynne s best performances and mary lambert s witty direction and you have an intensely satisfying scary movie even with the hokey ending highly recommended for genre fans 7 5 out of 10 \n",
      "Example 3 : this must be the most boring film i ever saw the only positive i can say about it is that thankfully i didn t pay to see it we were given a free showing in school and everyone in the audience just sat there embarrassed wondering when the fun would start this piece of junk is a badly filmed way too long film the actual idea on why making the movie took about 10 seconds to present the only ones who can be interested in this film are those who lost their jobs and want to know why they might find some of the interviews interesting a different edit might have made an interesting documentary of this but i doubt it the interviews shown were not engaging in any way as it is it is just a tragedy both to behold and to be a part of avoid this film at any cost \n",
      "Example 4 : this really was a waste of time the movie has a weak plot the story is fragmented and ends very abruptly with many loopholes though the animation is top notch once the movie started i tried to give it the benefit of the doubt by telling myself that it might get interesting in the later stage but it was never unique this same plot has been played over and over again but what made it worse was that the major plot hole was the whole story on how to kill the baddies the writer could have done so much more with the entire concept but seemed that he or she did not have their heart in it and wanted to close the movie as soon as it started overall too much hype but not able to deliver \n",
      "Example 5 :  riders of destiny was the first of several westerns wayne made for the lone star arm of monogram pictures between 1933 and 1935 in this entry the producers try to make the duke into a singing cowboy called singin sandy saunders with hilarious results any wayne fan knows that the duke couldn t have carried a tune if his life had depended on it his voice was apparently dubbed by smith ballew whose deep baritone sounds nothing like wayne wayne looks awkward and uncomfortable in performing the musical numbers thank heavens the singing cowboy experiment soon ended as for the movie itself it contains a standard b western plot of the fight over water rights between the villain forrest taylor and the local ranchers duke of course plays the hero he had not yet developed his on screen character and still looked like a poverty row cowboy also cast in the film were george pre gabby hayes as the heroine s father cecilia parker as the heroine and yakima canutt as one of the boys who performs his falling from the racing horses under the wagon stunt while doubling wayne both canutt and hayes would go on to appear with wayne in most of the other entries in the series canutt in particular would have a profound effect on wayne s future development teaching him among other things how to move fight and look comfortable on a horse as b westerns go this one isn t too bad however i have to give it a failing grade because of the singing \n",
      "\n",
      "Testing data examples:\n",
      "Example 1 : did the first travesty actually make money this is another sequel along the lines of another stakeout that no one asked for but we ve received it anyway the sequel is like its predecessor completely brain dead it s also pretty disgusting remember the dinner scene to think i almost felt sorry for ritter yasbeck and warden did they need the money that much \n",
      "Example 2 : how in the world does a thing like this get into my dvd player at home how does it even get to be packaged and distributed are there absolutely zero screenings a movie and i use that term loosely have to go through before it s put on a video store s shelf anymore i m all for diy film making but come on that doesn t entitle me to get a group of my friends and relatives together a crappy camcorder an awful story and put it all together to create a heaping pile of crap and call it a movie and i wish people would quit using the words indie and campy to describe these types of movies they re not either in no other profession would something like this be considered acceptable if someone tried to sell you car that was as bad as this movie you d take it back and say it was a lemon if it was a surgical procedure you d be suing the doctor for malpractice i wish i could get my time and money back after watching this shame on the video stores who stock movies like these they re a rip off to the public you want campy go get any of the friday the 13th movies even the later ones or dead alive at least those don t make you want to kill yourself it s because of movies like this that make people automatically equate independent with garbage \n",
      "Example 3 : there are not many films which i would describe as perfect but rififi definitely fits the bill no other heist film has come close to it before or after the plot is simple but engrosses you it never ceases to amaze me how absolutely gripping the film is every time you view it you care for all the characters even though they are bank robbers because they are presented as human beings with all their problems and flaws it s hard to imagine any other actor besides jean servais in the role of tony le stéphanois when the members of the crew are each talking about what they are going to do with their money and finally get to tony his answer and the expression on his face says it all while the 30 minute heist sequence is the most famous part of the movie and rightfully so the film actually gets better afterward the director jules dassin knew what he was doing when he decided to not have any music during the heist scene or the final shootout but instead inserted a great climactic score during tony s final ride towards his destiny to think that if dassin an american director had not been blacklisted in hollywood and forced to work in france this masterpiece of cinema would never have been made the way it was it certainly wouldn t have been as good if it was made as an american film during that time it was absolutely horrible what dassin had to go through but he did achieve his greatest work because of it to the benefit of all of us i m just cringing at the thought of the upcoming al pacino remake most heist films since rififi have already borrowed from it in some way or another there s no reason to remake this masterpiece other than money leave the classics alone \n",
      "Example 4 : this film is bad it s filled with glaring plot holes characters who are ruled by stupidity bad acting and above all a poor script which has been done before in many many films only better i feel sorry for donald sutherland i just hope he had to do this film rather than wanted to miss it \n",
      "Example 5 : excellent film the whole picture was filmed in budapest so i feel proud my little problem was that the trains in the film belonged to the hungarian state railways máv and it is plain to see that they were used in big train not in the local railway according to the story chikatilo picked up his victims in local railway stations apart from this the film is superb \n"
     ]
    }
   ],
   "source": [
    "# Print the length of training and testing data\n",
    "print(\"Training data length:\", len(X_train))\n",
    "print(\"Testing data length:\", len(X_test))\n",
    "\n",
    "# Print first few examples of training data\n",
    "print(\"\\nTraining data examples:\")\n",
    "for i in range(5):\n",
    "    print(\"Example\", i+1, \":\", X_train.iloc[i])\n",
    "\n",
    "# Print first few examples of testing data\n",
    "print(\"\\nTesting data examples:\")\n",
    "for i in range(5):\n",
    "    print(\"Example\", i+1, \":\", X_test.iloc[i])\n"
   ]
  },
  {
   "cell_type": "markdown",
   "metadata": {},
   "source": [
    "### Step 4: Feature Extraction, Word relevancy using term frequency-inverse document frequency (TF-IDF Vectorization)"
   ]
  },
  {
   "cell_type": "markdown",
   "metadata": {},
   "source": [
    "In this part, the text data is transformed into TF-IDF (Term Frequency-Inverse Document Frequency) vectors using the TfidfVectorizer from scikit-learn. TF-IDF vectorization converts text documents into numerical representations, where each word's importance is weighted based on its frequency in the document and across the entire corpus."
   ]
  },
  {
   "cell_type": "markdown",
   "metadata": {},
   "source": [
    "$$\\text{tf-idf}(t,d)=\\text{tf (t,d)}\\times \\text{idf}(t,d)$$"
   ]
  },
  {
   "cell_type": "markdown",
   "metadata": {},
   "source": [
    "$$\\text{idf}(t,d) = \\text{log}\\frac{n_d}{1+\\text{df}(d, t)},$$"
   ]
  },
  {
   "cell_type": "markdown",
   "metadata": {},
   "source": [
    "where $n_d$ is the total number of documents, and df(d, t) is the number of documents d that contain the term t."
   ]
  },
  {
   "cell_type": "code",
   "execution_count": 5,
   "metadata": {},
   "outputs": [
    {
     "name": "stderr",
     "output_type": "stream",
     "text": [
      "d:\\Program Files\\Python312\\Lib\\site-packages\\sklearn\\feature_extraction\\text.py:525: UserWarning: The parameter 'token_pattern' will not be used since 'tokenizer' is not None'\n",
      "  warnings.warn(\n"
     ]
    }
   ],
   "source": [
    "from sklearn.feature_extraction.text import TfidfVectorizer\n",
    "\n",
    "# Define TF-IDF vectorizer\n",
    "tfidf = TfidfVectorizer(strip_accents=None,\n",
    "                        lowercase=False,\n",
    "                        tokenizer=tokenizer_porter,\n",
    "                        use_idf=True,\n",
    "                        norm='l2',\n",
    "                        smooth_idf=True)\n",
    "\n",
    "# Transform text data into TF-IDF vectors\n",
    "X_train_tfidf = tfidf.fit_transform(X_train)\n",
    "X_test_tfidf = tfidf.transform(X_test)\n"
   ]
  },
  {
   "cell_type": "markdown",
   "metadata": {},
   "source": [
    "The equations for the idf and tf-idf that are implemented in scikit-learn are:\n",
    "\n",
    "$$\\text{idf} (t,d) = log\\frac{1 + n_d}{1 + \\text{df}(d, t)}$$\n",
    "The tf-idf equation that is implemented in scikit-learn is as follows:\n",
    "\n",
    "$$\\text{tf-idf}(t,d) = \\text{tf}(t,d) \\times (\\text{idf}(t,d)+1)$$"
   ]
  },
  {
   "cell_type": "markdown",
   "metadata": {},
   "source": [
    "### Step 5: Training Logistic Regression Model\n",
    "---"
   ]
  },
  {
   "cell_type": "markdown",
   "metadata": {},
   "source": [
    "A logistic regression model is trained using the training data (X_train_tfidf and y_train) with the LogisticRegression class from scikit-learn. Logistic regression is a popular classification algorithm suitable for binary classification tasks like sentiment analysis."
   ]
  },
  {
   "cell_type": "code",
   "execution_count": 9,
   "metadata": {},
   "outputs": [
    {
     "data": {
      "text/html": [
       "<style>#sk-container-id-1 {\n",
       "  /* Definition of color scheme common for light and dark mode */\n",
       "  --sklearn-color-text: black;\n",
       "  --sklearn-color-line: gray;\n",
       "  /* Definition of color scheme for unfitted estimators */\n",
       "  --sklearn-color-unfitted-level-0: #fff5e6;\n",
       "  --sklearn-color-unfitted-level-1: #f6e4d2;\n",
       "  --sklearn-color-unfitted-level-2: #ffe0b3;\n",
       "  --sklearn-color-unfitted-level-3: chocolate;\n",
       "  /* Definition of color scheme for fitted estimators */\n",
       "  --sklearn-color-fitted-level-0: #f0f8ff;\n",
       "  --sklearn-color-fitted-level-1: #d4ebff;\n",
       "  --sklearn-color-fitted-level-2: #b3dbfd;\n",
       "  --sklearn-color-fitted-level-3: cornflowerblue;\n",
       "\n",
       "  /* Specific color for light theme */\n",
       "  --sklearn-color-text-on-default-background: var(--sg-text-color, var(--theme-code-foreground, var(--jp-content-font-color1, black)));\n",
       "  --sklearn-color-background: var(--sg-background-color, var(--theme-background, var(--jp-layout-color0, white)));\n",
       "  --sklearn-color-border-box: var(--sg-text-color, var(--theme-code-foreground, var(--jp-content-font-color1, black)));\n",
       "  --sklearn-color-icon: #696969;\n",
       "\n",
       "  @media (prefers-color-scheme: dark) {\n",
       "    /* Redefinition of color scheme for dark theme */\n",
       "    --sklearn-color-text-on-default-background: var(--sg-text-color, var(--theme-code-foreground, var(--jp-content-font-color1, white)));\n",
       "    --sklearn-color-background: var(--sg-background-color, var(--theme-background, var(--jp-layout-color0, #111)));\n",
       "    --sklearn-color-border-box: var(--sg-text-color, var(--theme-code-foreground, var(--jp-content-font-color1, white)));\n",
       "    --sklearn-color-icon: #878787;\n",
       "  }\n",
       "}\n",
       "\n",
       "#sk-container-id-1 {\n",
       "  color: var(--sklearn-color-text);\n",
       "}\n",
       "\n",
       "#sk-container-id-1 pre {\n",
       "  padding: 0;\n",
       "}\n",
       "\n",
       "#sk-container-id-1 input.sk-hidden--visually {\n",
       "  border: 0;\n",
       "  clip: rect(1px 1px 1px 1px);\n",
       "  clip: rect(1px, 1px, 1px, 1px);\n",
       "  height: 1px;\n",
       "  margin: -1px;\n",
       "  overflow: hidden;\n",
       "  padding: 0;\n",
       "  position: absolute;\n",
       "  width: 1px;\n",
       "}\n",
       "\n",
       "#sk-container-id-1 div.sk-dashed-wrapped {\n",
       "  border: 1px dashed var(--sklearn-color-line);\n",
       "  margin: 0 0.4em 0.5em 0.4em;\n",
       "  box-sizing: border-box;\n",
       "  padding-bottom: 0.4em;\n",
       "  background-color: var(--sklearn-color-background);\n",
       "}\n",
       "\n",
       "#sk-container-id-1 div.sk-container {\n",
       "  /* jupyter's `normalize.less` sets `[hidden] { display: none; }`\n",
       "     but bootstrap.min.css set `[hidden] { display: none !important; }`\n",
       "     so we also need the `!important` here to be able to override the\n",
       "     default hidden behavior on the sphinx rendered scikit-learn.org.\n",
       "     See: https://github.com/scikit-learn/scikit-learn/issues/21755 */\n",
       "  display: inline-block !important;\n",
       "  position: relative;\n",
       "}\n",
       "\n",
       "#sk-container-id-1 div.sk-text-repr-fallback {\n",
       "  display: none;\n",
       "}\n",
       "\n",
       "div.sk-parallel-item,\n",
       "div.sk-serial,\n",
       "div.sk-item {\n",
       "  /* draw centered vertical line to link estimators */\n",
       "  background-image: linear-gradient(var(--sklearn-color-text-on-default-background), var(--sklearn-color-text-on-default-background));\n",
       "  background-size: 2px 100%;\n",
       "  background-repeat: no-repeat;\n",
       "  background-position: center center;\n",
       "}\n",
       "\n",
       "/* Parallel-specific style estimator block */\n",
       "\n",
       "#sk-container-id-1 div.sk-parallel-item::after {\n",
       "  content: \"\";\n",
       "  width: 100%;\n",
       "  border-bottom: 2px solid var(--sklearn-color-text-on-default-background);\n",
       "  flex-grow: 1;\n",
       "}\n",
       "\n",
       "#sk-container-id-1 div.sk-parallel {\n",
       "  display: flex;\n",
       "  align-items: stretch;\n",
       "  justify-content: center;\n",
       "  background-color: var(--sklearn-color-background);\n",
       "  position: relative;\n",
       "}\n",
       "\n",
       "#sk-container-id-1 div.sk-parallel-item {\n",
       "  display: flex;\n",
       "  flex-direction: column;\n",
       "}\n",
       "\n",
       "#sk-container-id-1 div.sk-parallel-item:first-child::after {\n",
       "  align-self: flex-end;\n",
       "  width: 50%;\n",
       "}\n",
       "\n",
       "#sk-container-id-1 div.sk-parallel-item:last-child::after {\n",
       "  align-self: flex-start;\n",
       "  width: 50%;\n",
       "}\n",
       "\n",
       "#sk-container-id-1 div.sk-parallel-item:only-child::after {\n",
       "  width: 0;\n",
       "}\n",
       "\n",
       "/* Serial-specific style estimator block */\n",
       "\n",
       "#sk-container-id-1 div.sk-serial {\n",
       "  display: flex;\n",
       "  flex-direction: column;\n",
       "  align-items: center;\n",
       "  background-color: var(--sklearn-color-background);\n",
       "  padding-right: 1em;\n",
       "  padding-left: 1em;\n",
       "}\n",
       "\n",
       "\n",
       "/* Toggleable style: style used for estimator/Pipeline/ColumnTransformer box that is\n",
       "clickable and can be expanded/collapsed.\n",
       "- Pipeline and ColumnTransformer use this feature and define the default style\n",
       "- Estimators will overwrite some part of the style using the `sk-estimator` class\n",
       "*/\n",
       "\n",
       "/* Pipeline and ColumnTransformer style (default) */\n",
       "\n",
       "#sk-container-id-1 div.sk-toggleable {\n",
       "  /* Default theme specific background. It is overwritten whether we have a\n",
       "  specific estimator or a Pipeline/ColumnTransformer */\n",
       "  background-color: var(--sklearn-color-background);\n",
       "}\n",
       "\n",
       "/* Toggleable label */\n",
       "#sk-container-id-1 label.sk-toggleable__label {\n",
       "  cursor: pointer;\n",
       "  display: block;\n",
       "  width: 100%;\n",
       "  margin-bottom: 0;\n",
       "  padding: 0.5em;\n",
       "  box-sizing: border-box;\n",
       "  text-align: center;\n",
       "}\n",
       "\n",
       "#sk-container-id-1 label.sk-toggleable__label-arrow:before {\n",
       "  /* Arrow on the left of the label */\n",
       "  content: \"▸\";\n",
       "  float: left;\n",
       "  margin-right: 0.25em;\n",
       "  color: var(--sklearn-color-icon);\n",
       "}\n",
       "\n",
       "#sk-container-id-1 label.sk-toggleable__label-arrow:hover:before {\n",
       "  color: var(--sklearn-color-text);\n",
       "}\n",
       "\n",
       "/* Toggleable content - dropdown */\n",
       "\n",
       "#sk-container-id-1 div.sk-toggleable__content {\n",
       "  max-height: 0;\n",
       "  max-width: 0;\n",
       "  overflow: hidden;\n",
       "  text-align: left;\n",
       "  /* unfitted */\n",
       "  background-color: var(--sklearn-color-unfitted-level-0);\n",
       "}\n",
       "\n",
       "#sk-container-id-1 div.sk-toggleable__content.fitted {\n",
       "  /* fitted */\n",
       "  background-color: var(--sklearn-color-fitted-level-0);\n",
       "}\n",
       "\n",
       "#sk-container-id-1 div.sk-toggleable__content pre {\n",
       "  margin: 0.2em;\n",
       "  border-radius: 0.25em;\n",
       "  color: var(--sklearn-color-text);\n",
       "  /* unfitted */\n",
       "  background-color: var(--sklearn-color-unfitted-level-0);\n",
       "}\n",
       "\n",
       "#sk-container-id-1 div.sk-toggleable__content.fitted pre {\n",
       "  /* unfitted */\n",
       "  background-color: var(--sklearn-color-fitted-level-0);\n",
       "}\n",
       "\n",
       "#sk-container-id-1 input.sk-toggleable__control:checked~div.sk-toggleable__content {\n",
       "  /* Expand drop-down */\n",
       "  max-height: 200px;\n",
       "  max-width: 100%;\n",
       "  overflow: auto;\n",
       "}\n",
       "\n",
       "#sk-container-id-1 input.sk-toggleable__control:checked~label.sk-toggleable__label-arrow:before {\n",
       "  content: \"▾\";\n",
       "}\n",
       "\n",
       "/* Pipeline/ColumnTransformer-specific style */\n",
       "\n",
       "#sk-container-id-1 div.sk-label input.sk-toggleable__control:checked~label.sk-toggleable__label {\n",
       "  color: var(--sklearn-color-text);\n",
       "  background-color: var(--sklearn-color-unfitted-level-2);\n",
       "}\n",
       "\n",
       "#sk-container-id-1 div.sk-label.fitted input.sk-toggleable__control:checked~label.sk-toggleable__label {\n",
       "  background-color: var(--sklearn-color-fitted-level-2);\n",
       "}\n",
       "\n",
       "/* Estimator-specific style */\n",
       "\n",
       "/* Colorize estimator box */\n",
       "#sk-container-id-1 div.sk-estimator input.sk-toggleable__control:checked~label.sk-toggleable__label {\n",
       "  /* unfitted */\n",
       "  background-color: var(--sklearn-color-unfitted-level-2);\n",
       "}\n",
       "\n",
       "#sk-container-id-1 div.sk-estimator.fitted input.sk-toggleable__control:checked~label.sk-toggleable__label {\n",
       "  /* fitted */\n",
       "  background-color: var(--sklearn-color-fitted-level-2);\n",
       "}\n",
       "\n",
       "#sk-container-id-1 div.sk-label label.sk-toggleable__label,\n",
       "#sk-container-id-1 div.sk-label label {\n",
       "  /* The background is the default theme color */\n",
       "  color: var(--sklearn-color-text-on-default-background);\n",
       "}\n",
       "\n",
       "/* On hover, darken the color of the background */\n",
       "#sk-container-id-1 div.sk-label:hover label.sk-toggleable__label {\n",
       "  color: var(--sklearn-color-text);\n",
       "  background-color: var(--sklearn-color-unfitted-level-2);\n",
       "}\n",
       "\n",
       "/* Label box, darken color on hover, fitted */\n",
       "#sk-container-id-1 div.sk-label.fitted:hover label.sk-toggleable__label.fitted {\n",
       "  color: var(--sklearn-color-text);\n",
       "  background-color: var(--sklearn-color-fitted-level-2);\n",
       "}\n",
       "\n",
       "/* Estimator label */\n",
       "\n",
       "#sk-container-id-1 div.sk-label label {\n",
       "  font-family: monospace;\n",
       "  font-weight: bold;\n",
       "  display: inline-block;\n",
       "  line-height: 1.2em;\n",
       "}\n",
       "\n",
       "#sk-container-id-1 div.sk-label-container {\n",
       "  text-align: center;\n",
       "}\n",
       "\n",
       "/* Estimator-specific */\n",
       "#sk-container-id-1 div.sk-estimator {\n",
       "  font-family: monospace;\n",
       "  border: 1px dotted var(--sklearn-color-border-box);\n",
       "  border-radius: 0.25em;\n",
       "  box-sizing: border-box;\n",
       "  margin-bottom: 0.5em;\n",
       "  /* unfitted */\n",
       "  background-color: var(--sklearn-color-unfitted-level-0);\n",
       "}\n",
       "\n",
       "#sk-container-id-1 div.sk-estimator.fitted {\n",
       "  /* fitted */\n",
       "  background-color: var(--sklearn-color-fitted-level-0);\n",
       "}\n",
       "\n",
       "/* on hover */\n",
       "#sk-container-id-1 div.sk-estimator:hover {\n",
       "  /* unfitted */\n",
       "  background-color: var(--sklearn-color-unfitted-level-2);\n",
       "}\n",
       "\n",
       "#sk-container-id-1 div.sk-estimator.fitted:hover {\n",
       "  /* fitted */\n",
       "  background-color: var(--sklearn-color-fitted-level-2);\n",
       "}\n",
       "\n",
       "/* Specification for estimator info (e.g. \"i\" and \"?\") */\n",
       "\n",
       "/* Common style for \"i\" and \"?\" */\n",
       "\n",
       ".sk-estimator-doc-link,\n",
       "a:link.sk-estimator-doc-link,\n",
       "a:visited.sk-estimator-doc-link {\n",
       "  float: right;\n",
       "  font-size: smaller;\n",
       "  line-height: 1em;\n",
       "  font-family: monospace;\n",
       "  background-color: var(--sklearn-color-background);\n",
       "  border-radius: 1em;\n",
       "  height: 1em;\n",
       "  width: 1em;\n",
       "  text-decoration: none !important;\n",
       "  margin-left: 1ex;\n",
       "  /* unfitted */\n",
       "  border: var(--sklearn-color-unfitted-level-1) 1pt solid;\n",
       "  color: var(--sklearn-color-unfitted-level-1);\n",
       "}\n",
       "\n",
       ".sk-estimator-doc-link.fitted,\n",
       "a:link.sk-estimator-doc-link.fitted,\n",
       "a:visited.sk-estimator-doc-link.fitted {\n",
       "  /* fitted */\n",
       "  border: var(--sklearn-color-fitted-level-1) 1pt solid;\n",
       "  color: var(--sklearn-color-fitted-level-1);\n",
       "}\n",
       "\n",
       "/* On hover */\n",
       "div.sk-estimator:hover .sk-estimator-doc-link:hover,\n",
       ".sk-estimator-doc-link:hover,\n",
       "div.sk-label-container:hover .sk-estimator-doc-link:hover,\n",
       ".sk-estimator-doc-link:hover {\n",
       "  /* unfitted */\n",
       "  background-color: var(--sklearn-color-unfitted-level-3);\n",
       "  color: var(--sklearn-color-background);\n",
       "  text-decoration: none;\n",
       "}\n",
       "\n",
       "div.sk-estimator.fitted:hover .sk-estimator-doc-link.fitted:hover,\n",
       ".sk-estimator-doc-link.fitted:hover,\n",
       "div.sk-label-container:hover .sk-estimator-doc-link.fitted:hover,\n",
       ".sk-estimator-doc-link.fitted:hover {\n",
       "  /* fitted */\n",
       "  background-color: var(--sklearn-color-fitted-level-3);\n",
       "  color: var(--sklearn-color-background);\n",
       "  text-decoration: none;\n",
       "}\n",
       "\n",
       "/* Span, style for the box shown on hovering the info icon */\n",
       ".sk-estimator-doc-link span {\n",
       "  display: none;\n",
       "  z-index: 9999;\n",
       "  position: relative;\n",
       "  font-weight: normal;\n",
       "  right: .2ex;\n",
       "  padding: .5ex;\n",
       "  margin: .5ex;\n",
       "  width: min-content;\n",
       "  min-width: 20ex;\n",
       "  max-width: 50ex;\n",
       "  color: var(--sklearn-color-text);\n",
       "  box-shadow: 2pt 2pt 4pt #999;\n",
       "  /* unfitted */\n",
       "  background: var(--sklearn-color-unfitted-level-0);\n",
       "  border: .5pt solid var(--sklearn-color-unfitted-level-3);\n",
       "}\n",
       "\n",
       ".sk-estimator-doc-link.fitted span {\n",
       "  /* fitted */\n",
       "  background: var(--sklearn-color-fitted-level-0);\n",
       "  border: var(--sklearn-color-fitted-level-3);\n",
       "}\n",
       "\n",
       ".sk-estimator-doc-link:hover span {\n",
       "  display: block;\n",
       "}\n",
       "\n",
       "/* \"?\"-specific style due to the `<a>` HTML tag */\n",
       "\n",
       "#sk-container-id-1 a.estimator_doc_link {\n",
       "  float: right;\n",
       "  font-size: 1rem;\n",
       "  line-height: 1em;\n",
       "  font-family: monospace;\n",
       "  background-color: var(--sklearn-color-background);\n",
       "  border-radius: 1rem;\n",
       "  height: 1rem;\n",
       "  width: 1rem;\n",
       "  text-decoration: none;\n",
       "  /* unfitted */\n",
       "  color: var(--sklearn-color-unfitted-level-1);\n",
       "  border: var(--sklearn-color-unfitted-level-1) 1pt solid;\n",
       "}\n",
       "\n",
       "#sk-container-id-1 a.estimator_doc_link.fitted {\n",
       "  /* fitted */\n",
       "  border: var(--sklearn-color-fitted-level-1) 1pt solid;\n",
       "  color: var(--sklearn-color-fitted-level-1);\n",
       "}\n",
       "\n",
       "/* On hover */\n",
       "#sk-container-id-1 a.estimator_doc_link:hover {\n",
       "  /* unfitted */\n",
       "  background-color: var(--sklearn-color-unfitted-level-3);\n",
       "  color: var(--sklearn-color-background);\n",
       "  text-decoration: none;\n",
       "}\n",
       "\n",
       "#sk-container-id-1 a.estimator_doc_link.fitted:hover {\n",
       "  /* fitted */\n",
       "  background-color: var(--sklearn-color-fitted-level-3);\n",
       "}\n",
       "</style><div id=\"sk-container-id-1\" class=\"sk-top-container\"><div class=\"sk-text-repr-fallback\"><pre>LogisticRegression()</pre><b>In a Jupyter environment, please rerun this cell to show the HTML representation or trust the notebook. <br />On GitHub, the HTML representation is unable to render, please try loading this page with nbviewer.org.</b></div><div class=\"sk-container\" hidden><div class=\"sk-item\"><div class=\"sk-estimator fitted sk-toggleable\"><input class=\"sk-toggleable__control sk-hidden--visually\" id=\"sk-estimator-id-1\" type=\"checkbox\" checked><label for=\"sk-estimator-id-1\" class=\"sk-toggleable__label fitted sk-toggleable__label-arrow fitted\">&nbsp;&nbsp;LogisticRegression<a class=\"sk-estimator-doc-link fitted\" rel=\"noreferrer\" target=\"_blank\" href=\"https://scikit-learn.org/1.4/modules/generated/sklearn.linear_model.LogisticRegression.html\">?<span>Documentation for LogisticRegression</span></a><span class=\"sk-estimator-doc-link fitted\">i<span>Fitted</span></span></label><div class=\"sk-toggleable__content fitted\"><pre>LogisticRegression()</pre></div> </div></div></div></div>"
      ],
      "text/plain": [
       "LogisticRegression()"
      ]
     },
     "execution_count": 9,
     "metadata": {},
     "output_type": "execute_result"
    }
   ],
   "source": [
    "from sklearn.linear_model import LogisticRegression\n",
    "\n",
    "# Train Logistic Regression model\n",
    "lr = LogisticRegression()\n",
    "lr.fit(X_train_tfidf, y_train)\n"
   ]
  },
  {
   "cell_type": "markdown",
   "metadata": {},
   "source": [
    "### Step 6: Evaluation\n",
    "---"
   ]
  },
  {
   "cell_type": "markdown",
   "metadata": {},
   "source": [
    "\n",
    "In this section, the code focuses on evaluating the performance of the sentiment analysis model using various metrics. Here's a breakdown of what each part of the code does:\n",
    "\n",
    "1. **Importing Metrics Functions**:\n",
    "   The code imports necessary functions from scikit-learn's metrics module, including `accuracy_score`, `precision_score`, `recall_score`, `f1_score`, and `classification_report`. These functions will be used to calculate different evaluation metrics for the model.\n",
    "\n",
    "2. **Calculate Predictions**:\n",
    "   The model's predictions are calculated on the test data (`X_test_tfidf`) using the `predict` method of the logistic regression model (`lr`). This step generates predicted sentiment labels based on the trained model.\n",
    "\n",
    "3. **Evaluate Using Metrics**:\n",
    "   The predictions generated in the previous step are then evaluated using several metrics:\n",
    "   - **Accuracy**: It measures the proportion of correctly predicted instances among all instances in the test set.\n",
    "   - **Precision**: It indicates the proportion of true positive predictions out of all positive predictions made by the model.\n",
    "   - **Recall**: It measures the proportion of true positive predictions out of all actual positive instances in the test set.\n",
    "   - **F1-score**: It is the harmonic mean of precision and recall, providing a balanced measure between the two.\n",
    "\n",
    "4. **Display Evaluation Metrics**:\n",
    "   The calculated metrics—accuracy, precision, recall, and F1-score—are printed out to the console, providing insights into the model's performance across different aspects of classification.\n",
    "\n",
    "5. **Display Classification Report**:\n",
    "   Finally, a detailed classification report is printed using the `classification_report` function. This report provides a comprehensive summary of precision, recall, F1-score, and support for each class (in this case, sentiment classes) in the test set. It's particularly useful for understanding the model's performance on individual classes, especially in the case of imbalanced datasets.\n",
    "\n",
    "By evaluating the model using these metrics and providing a classification report, we gain a comprehensive understanding of its strengths and weaknesses in classifying sentiment in text data.\n"
   ]
  },
  {
   "cell_type": "code",
   "execution_count": 13,
   "metadata": {},
   "outputs": [
    {
     "name": "stdout",
     "output_type": "stream",
     "text": [
      "Accuracy: 0.8956\n",
      "Precision: 0.8821122369446609\n",
      "Recall: 0.9115988723318567\n",
      "F1-score: 0.8966131907308378\n",
      "\n",
      "Classification Report:\n",
      "              precision    recall  f1-score   support\n",
      "\n",
      "           0       0.91      0.88      0.89      5034\n",
      "           1       0.88      0.91      0.90      4966\n",
      "\n",
      "    accuracy                           0.90     10000\n",
      "   macro avg       0.90      0.90      0.90     10000\n",
      "weighted avg       0.90      0.90      0.90     10000\n",
      "\n"
     ]
    }
   ],
   "source": [
    "from sklearn.metrics import accuracy_score, precision_score, recall_score, f1_score, classification_report\n",
    "\n",
    "# Calculate predictions on the test data\n",
    "y_pred = lr.predict(X_test_tfidf)\n",
    "\n",
    "# Evaluate using metrics\n",
    "accuracy = accuracy_score(y_test, y_pred)\n",
    "precision = precision_score(y_test, y_pred)\n",
    "recall = recall_score(y_test, y_pred)\n",
    "f1 = f1_score(y_test, y_pred)\n",
    "\n",
    "# Display evaluation metrics\n",
    "print(\"Accuracy:\", accuracy)\n",
    "print(\"Precision:\", precision)\n",
    "print(\"Recall:\", recall)\n",
    "print(\"F1-score:\", f1)\n",
    "\n",
    "# Display classification report\n",
    "print(\"\\nClassification Report:\")\n",
    "print(classification_report(y_test, y_pred))\n"
   ]
  },
  {
   "cell_type": "markdown",
   "metadata": {},
   "source": [
    "### Analysis of Model Evaluation Results:\n",
    "\n",
    "- **Accuracy:** The accuracy of the sentiment analysis model is 89.56%, indicating that approximately 89.56% of the predictions made by the model on the test dataset were correct.\n",
    "\n",
    "- **Precision:** The precision score measures the proportion of true positive predictions out of all positive predictions made by the model. For class 0 (negative sentiment), the precision is approximately 88.21%, and for class 1 (positive sentiment) is approximately 88.21%.\n",
    "\n",
    "- **Recall:** The recall score measures the proportion of true positive predictions out of all actual positive instances in the test set. For class 0 (negative sentiment), the recall is approximately 91.16%, and for class 1 (positive sentiment) is approximately 91.16%.\n",
    "\n",
    "- **F1-score:** The F1-score is the harmonic mean of precision and recall, providing a balanced measure between the two. The F1-score for class 0 (negative sentiment) is approximately 89.66%, and for class 1 (positive sentiment) is approximately 89.66%.\n",
    "\n",
    "- **Classification Report:** The classification report provides a comprehensive summary of precision, recall, F1-score, and support for each class (negative and positive sentiment) in the test set. It shows that the model performs well for both classes, with high precision, recall, and F1-score values. Additionally, the macro avg and weighted avg values indicate the overall performance of the model across both classes, considering their respective support (number of instances). The accuracy, precision, recall, and F1-score values indicate that the model is effective in classifying sentiment in the given text data.\n"
   ]
  },
  {
   "cell_type": "markdown",
   "metadata": {},
   "source": [
    "### Step 7: Sentiment Analysis Example (Test Sentiment)\n",
    "---"
   ]
  },
  {
   "cell_type": "markdown",
   "metadata": {},
   "source": [
    "An example of sentiment analysis is demonstrated in this section. A new text (\"This movie is great!\") is preprocessed using the same preprocessing function (preprocessor()), transformed into a TF-IDF vector, and then fed into the trained logistic regression model for sentiment prediction. The predicted sentiment (positive=1 or negative=0) is printed out as the output."
   ]
  },
  {
   "cell_type": "code",
   "execution_count": 11,
   "metadata": {},
   "outputs": [
    {
     "name": "stdout",
     "output_type": "stream",
     "text": [
      "Sentiment prediction: 1\n"
     ]
    }
   ],
   "source": [
    "# Example sentiment analysis\n",
    "new_text = \"This movie is great!\"\n",
    "new_text_cleaned = preprocessor(new_text)\n",
    "new_text_tfidf = tfidf.transform([new_text_cleaned])\n",
    "prediction = lr.predict(new_text_tfidf)\n",
    "print(\"Sentiment prediction:\", prediction[0])\n"
   ]
  },
  {
   "cell_type": "markdown",
   "metadata": {},
   "source": [
    "### Step 8: Perform Prediction Sentiment for all data\n",
    "---"
   ]
  },
  {
   "cell_type": "markdown",
   "metadata": {},
   "source": [
    "In this section, the code predicts the sentiment (positive or negative) for all the data in the DataFrame using the trained logistic regression model. Here's a summary of what each part of the code does:\n",
    "\n",
    "- **Predict Sentiment for All Data**: The TF-IDF vectorizer (`tfidf`) transforms all the cleaned review text data (`df['clean_review']`) into TF-IDF vectors (`all_data_tfidf`).\n",
    "\n",
    "- **Make Predictions**: The logistic regression model (`lr`) predicts the sentiment labels for all the TF-IDF vectors, storing the predicted sentiment labels in the `all_data_predictions` array.\n",
    "\n",
    "- **Add Predictions to DataFrame**: The predicted sentiment labels are added as a new column named 'predicted_sentiment' to the original DataFrame (`df`).\n",
    "\n",
    "- **Display Results**: Finally, a subset of the DataFrame containing the original review text and the predicted sentiment labels is printed to the console using the `print()` function.\n"
   ]
  },
  {
   "cell_type": "code",
   "execution_count": 12,
   "metadata": {},
   "outputs": [
    {
     "name": "stdout",
     "output_type": "stream",
     "text": [
      "                                                  review  predicted_sentiment\n",
      "0      In 1974, the teenager Martha Moxley (Maggie Gr...                    1\n",
      "1      OK... so... I really like Kris Kristofferson a...                    0\n",
      "2      ***SPOILER*** Do not read this, if you think a...                    0\n",
      "3      hi for all the people who have seen this wonde...                    1\n",
      "4      I recently bought the DVD, forgetting just how...                    1\n",
      "...                                                  ...                  ...\n",
      "49995  OK, lets start with the best. the building. al...                    0\n",
      "49996  The British 'heritage film' industry is out of...                    0\n",
      "49997  I don't even know where to begin on this one. ...                    0\n",
      "49998  Richard Tyler is a little boy who is scared of...                    0\n",
      "49999  I waited long to watch this movie. Also becaus...                    1\n",
      "\n",
      "[50000 rows x 2 columns]\n"
     ]
    }
   ],
   "source": [
    "# Predict sentiment for all data\n",
    "all_data_tfidf = tfidf.transform(df['clean_review'])\n",
    "all_data_predictions = lr.predict(all_data_tfidf)\n",
    "\n",
    "# Add predictions to DataFrame\n",
    "df['predicted_sentiment'] = all_data_predictions\n",
    "\n",
    "# Display results\n",
    "print(df[['review', 'predicted_sentiment']])\n"
   ]
  },
  {
   "cell_type": "markdown",
   "metadata": {},
   "source": [
    "### Step 9: Save into csv\n",
    "---"
   ]
  },
  {
   "cell_type": "code",
   "execution_count": 14,
   "metadata": {},
   "outputs": [
    {
     "name": "stdout",
     "output_type": "stream",
     "text": [
      "DataFrame has been successfully saved to: F:\\Folder\\Coursera\\Perform Sentiment Analysis with scikit-learn\\movie_reviews.csv\n"
     ]
    }
   ],
   "source": [
    "# Define the file path\n",
    "file_path = r'F:\\Folder\\Coursera\\Perform Sentiment Analysis with scikit-learn\\movie_reviews.csv'\n",
    "\n",
    "# Save DataFrame to CSV\n",
    "df.to_csv(file_path, index=False)\n",
    "\n",
    "print(\"DataFrame has been successfully saved to:\", file_path)\n"
   ]
  }
 ],
 "metadata": {
  "kernelspec": {
   "display_name": "Python 3",
   "language": "python",
   "name": "python3"
  },
  "language_info": {
   "codemirror_mode": {
    "name": "ipython",
    "version": 3
   },
   "file_extension": ".py",
   "mimetype": "text/x-python",
   "name": "python",
   "nbconvert_exporter": "python",
   "pygments_lexer": "ipython3",
   "version": "3.12.2"
  }
 },
 "nbformat": 4,
 "nbformat_minor": 2
}
